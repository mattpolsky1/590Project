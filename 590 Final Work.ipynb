{
 "cells": [
  {
   "cell_type": "code",
   "execution_count": 1,
   "metadata": {},
   "outputs": [
    {
     "name": "stdout",
     "output_type": "stream",
     "text": [
      "Requirement already satisfied: kagglehub in /opt/anaconda3/lib/python3.12/site-packages (0.3.11)\n",
      "Requirement already satisfied: packaging in /opt/anaconda3/lib/python3.12/site-packages (from kagglehub) (24.1)\n",
      "Requirement already satisfied: pyyaml in /opt/anaconda3/lib/python3.12/site-packages (from kagglehub) (6.0.1)\n",
      "Requirement already satisfied: requests in /opt/anaconda3/lib/python3.12/site-packages (from kagglehub) (2.32.3)\n",
      "Requirement already satisfied: tqdm in /opt/anaconda3/lib/python3.12/site-packages (from kagglehub) (4.66.5)\n",
      "Requirement already satisfied: charset-normalizer<4,>=2 in /opt/anaconda3/lib/python3.12/site-packages (from requests->kagglehub) (3.3.2)\n",
      "Requirement already satisfied: idna<4,>=2.5 in /opt/anaconda3/lib/python3.12/site-packages (from requests->kagglehub) (3.7)\n",
      "Requirement already satisfied: urllib3<3,>=1.21.1 in /opt/anaconda3/lib/python3.12/site-packages (from requests->kagglehub) (2.2.3)\n",
      "Requirement already satisfied: certifi>=2017.4.17 in /opt/anaconda3/lib/python3.12/site-packages (from requests->kagglehub) (2024.8.30)\n"
     ]
    }
   ],
   "source": [
    "!pip install kagglehub"
   ]
  },
  {
   "cell_type": "code",
   "execution_count": 4,
   "metadata": {},
   "outputs": [
    {
     "name": "stdout",
     "output_type": "stream",
     "text": [
      "Path to dataset files: /Users/rileyhaynie15/.cache/kagglehub/datasets/atharvasoundankar/global-housing-market-analysis-2015-2024/versions/1\n",
      "  Country  Year  House Price Index  Rent Index  Affordability Ratio  \\\n",
      "0     USA  2015         117.454012  116.550001             9.587945   \n",
      "1     USA  2016         150.807258   51.440915            11.729189   \n",
      "2     USA  2017         123.194502   70.386040             8.506676   \n",
      "3     USA  2018         131.423444   91.469020             3.418054   \n",
      "4     USA  2019         110.461377   56.837048             9.158097   \n",
      "\n",
      "   Mortgage Rate (%)  Inflation Rate (%)  GDP Growth (%)  \\\n",
      "0           4.493292            1.514121       -0.752044   \n",
      "1           5.662213            1.880204       -0.545400   \n",
      "2           2.197469            2.398940        0.930895   \n",
      "3           4.537724            1.608407       -1.479587   \n",
      "4           3.700762            1.293249        1.961415   \n",
      "\n",
      "   Population Growth (%)  Urbanization Rate (%)  Construction Index  \n",
      "0              -0.796707              85.985284          118.089201  \n",
      "1              -0.358084              69.127267          111.980515  \n",
      "2               0.596245              83.555279           85.973903  \n",
      "3               2.321099              88.968961          134.671788  \n",
      "4              -0.879640              87.279612           90.702399  \n"
     ]
    }
   ],
   "source": [
    "import kagglehub\n",
    "\n",
    "# Download latest version\n",
    "path = kagglehub.dataset_download(\"atharvasoundankar/global-housing-market-analysis-2015-2024\")\n",
    "\n",
    "print(\"Path to dataset files:\", path)\n",
    "\n",
    "import pandas as pd\n",
    "# Load the dataset\n",
    "data = pd.read_csv(path + \"/global_housing_market_extended.csv\")\n",
    "print(data.head())"
   ]
  }
 ],
 "metadata": {
  "kernelspec": {
   "display_name": "base",
   "language": "python",
   "name": "python3"
  },
  "language_info": {
   "codemirror_mode": {
    "name": "ipython",
    "version": 3
   },
   "file_extension": ".py",
   "mimetype": "text/x-python",
   "name": "python",
   "nbconvert_exporter": "python",
   "pygments_lexer": "ipython3",
   "version": "3.12.7"
  }
 },
 "nbformat": 4,
 "nbformat_minor": 2
}
