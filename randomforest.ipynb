{
 "cells": [
  {
   "cell_type": "code",
   "execution_count": 3,
   "metadata": {},
   "outputs": [
    {
     "name": "stderr",
     "output_type": "stream",
     "text": [
      "/Users/dolphins/Library/Python/3.9/lib/python/site-packages/urllib3/__init__.py:35: NotOpenSSLWarning: urllib3 v2 only supports OpenSSL 1.1.1+, currently the 'ssl' module is compiled with 'LibreSSL 2.8.3'. See: https://github.com/urllib3/urllib3/issues/3020\n",
      "  warnings.warn(\n",
      "/Users/dolphins/Library/Python/3.9/lib/python/site-packages/tqdm/auto.py:21: TqdmWarning: IProgress not found. Please update jupyter and ipywidgets. See https://ipywidgets.readthedocs.io/en/stable/user_install.html\n",
      "  from .autonotebook import tqdm as notebook_tqdm\n"
     ]
    },
    {
     "name": "stdout",
     "output_type": "stream",
     "text": [
      "Path to dataset files: /Users/dolphins/.cache/kagglehub/datasets/atharvasoundankar/global-housing-market-analysis-2015-2024/versions/1\n"
     ]
    }
   ],
   "source": [
    "import kagglehub\n",
    "\n",
    "# Download latest version\n",
    "path = kagglehub.dataset_download(\"atharvasoundankar/global-housing-market-analysis-2015-2024\")\n",
    "path_1 = kagglehub.dataset_download(\"gpandi007/usa-housing-dataset\")\n",
    "print(\"Path to dataset files:\", path)\n",
    "\n",
    "import pandas as pd\n",
    "# Load the dataset\n",
    "global_data = pd.read_csv(path + \"/global_housing_market_extended.csv\")\n",
    "us_data = pd.read_csv(path_1 + \"/housing_train.csv\")\n",
    "\n"
   ]
  },
  {
   "cell_type": "code",
   "execution_count": 1,
   "metadata": {},
   "outputs": [
    {
     "name": "stdout",
     "output_type": "stream",
     "text": [
      "Defaulting to user installation because normal site-packages is not writeable\n",
      "Requirement already satisfied: kagglehub in /Users/dolphins/Library/Python/3.9/lib/python/site-packages (0.3.11)\n",
      "Requirement already satisfied: packaging in /Users/dolphins/Library/Python/3.9/lib/python/site-packages (from kagglehub) (24.2)\n",
      "Requirement already satisfied: pyyaml in /Users/dolphins/Library/Python/3.9/lib/python/site-packages (from kagglehub) (6.0.2)\n",
      "Requirement already satisfied: requests in /Users/dolphins/Library/Python/3.9/lib/python/site-packages (from kagglehub) (2.32.3)\n",
      "Requirement already satisfied: tqdm in /Users/dolphins/Library/Python/3.9/lib/python/site-packages (from kagglehub) (4.67.1)\n",
      "Requirement already satisfied: charset-normalizer<4,>=2 in /Users/dolphins/Library/Python/3.9/lib/python/site-packages (from requests->kagglehub) (3.4.1)\n",
      "Requirement already satisfied: idna<4,>=2.5 in /Users/dolphins/Library/Python/3.9/lib/python/site-packages (from requests->kagglehub) (3.10)\n",
      "Requirement already satisfied: urllib3<3,>=1.21.1 in /Users/dolphins/Library/Python/3.9/lib/python/site-packages (from requests->kagglehub) (2.3.0)\n",
      "Requirement already satisfied: certifi>=2017.4.17 in /Users/dolphins/Library/Python/3.9/lib/python/site-packages (from requests->kagglehub) (2025.1.31)\n",
      "\n",
      "\u001b[1m[\u001b[0m\u001b[34;49mnotice\u001b[0m\u001b[1;39;49m]\u001b[0m\u001b[39;49m A new release of pip is available: \u001b[0m\u001b[31;49m24.3.1\u001b[0m\u001b[39;49m -> \u001b[0m\u001b[32;49m25.0.1\u001b[0m\n",
      "\u001b[1m[\u001b[0m\u001b[34;49mnotice\u001b[0m\u001b[1;39;49m]\u001b[0m\u001b[39;49m To update, run: \u001b[0m\u001b[32;49m/Library/Developer/CommandLineTools/usr/bin/python3 -m pip install --upgrade pip\u001b[0m\n"
     ]
    }
   ],
   "source": [
    "!pip install kagglehub\n"
   ]
  },
  {
   "cell_type": "code",
   "execution_count": 4,
   "metadata": {},
   "outputs": [],
   "source": [
    "\"\"\"Joining Mortgage Rate, Inflation Rate, GDP Growth, and Population Growth scraped from Bankrate & Fed Reserve\"\"\"\n",
    "econ_data = pd.DataFrame({\n",
    "    \"YrSold\": [2006, 2007, 2008, 2009, 2010],\n",
    "    \"Mortgage Rate (%)\": [6.41, 6.34, 6.03, 5.04, 4.69],\n",
    "    \"Inflation Rate (%)\": [3.2, 2.8, 3.8, -0.4, 1.6],\n",
    "    \"GDP Growth (%)\": [2.7, 1.8, -0.1, -2.5, 2.6],\n",
    "    \"Population Growth (%)\": [0.89, 0.95, 0.99, 0.86, 0.88]\n",
    "})\n",
    "\n",
    "# Merge into your dataset\n",
    "us_data = us_data.merge(econ_data, on=\"YrSold\", how=\"left\")"
   ]
  },
  {
   "cell_type": "code",
   "execution_count": 5,
   "metadata": {},
   "outputs": [],
   "source": [
    "# Get rid of NA values\n",
    "us_data.isnull().sum().sort_values(ascending=False).head(10)\n",
    "\n",
    "# Drop columns with too many missing values or little importance\n",
    "cols_to_drop = ['PoolQC', 'MiscFeature']\n",
    "us_data.drop(columns=cols_to_drop, inplace=True)\n",
    "\n",
    "# ---------------------------\n",
    "# Fill 'None' for features where missing means \"doesn't exist\"\n",
    "none_fill_cols = [\n",
    "    'Alley', 'Fence', 'MasVnrType', 'FireplaceQu',\n",
    "    'GarageQual', 'GarageFinish', 'GarageCond'\n",
    "]\n",
    "us_data[none_fill_cols] = us_data[none_fill_cols].fillna('None')\n",
    "\n",
    "# ---------------------------\n",
    "# Impute LotFrontage using median by Neighborhood\n",
    "us_data['LotFrontage'] = us_data.groupby('Neighborhood')['LotFrontage'].transform(\n",
    "    lambda x: x.fillna(x.median())\n",
    ")\n"
   ]
  },
  {
   "cell_type": "code",
   "execution_count": 6,
   "metadata": {},
   "outputs": [],
   "source": [
    "# Total Bathrooms: full + half (each half bath = 0.5)\n",
    "us_data['TotalBathrooms'] = (\n",
    "    us_data['FullBath'] +\n",
    "    0.5 * us_data['HalfBath'] +\n",
    "    us_data['BsmtFullBath'] +\n",
    "    0.5 * us_data['BsmtHalfBath']\n",
    ")\n",
    "\n",
    "# Total square footage: 1st + 2nd floor + basement\n",
    "us_data['TotalSF'] = us_data['1stFlrSF'] + us_data['2ndFlrSF'] + us_data['TotalBsmtSF']\n",
    "\n",
    "# Age of house when sold and time since remodel\n",
    "us_data['HouseAge'] = us_data['YrSold'] - us_data['YearBuilt']\n",
    "us_data['RemodelAge'] = us_data['YrSold'] - us_data['YearRemodAdd']\n",
    "\n",
    "# Binary flags\n",
    "us_data['HasBasement'] = (us_data['TotalBsmtSF'] > 0).astype(int)\n",
    "us_data['HasGarage'] = (us_data['GarageArea'] > 0).astype(int)\n"
   ]
  },
  {
   "cell_type": "code",
   "execution_count": 7,
   "metadata": {},
   "outputs": [
    {
     "name": "stdout",
     "output_type": "stream",
     "text": [
      "Manual RMSE: 29388.97\n"
     ]
    }
   ],
   "source": [
    "# Build Random Forest Model\n",
    "\n",
    "import pandas as pd\n",
    "from sklearn.ensemble import RandomForestRegressor\n",
    "from sklearn.model_selection import train_test_split\n",
    "from sklearn.metrics import mean_squared_error\n",
    "from sklearn.preprocessing import LabelEncoder\n",
    "\n",
    "# Drop identifier\n",
    "df = us_data.drop(columns=[\"Id\"])\n",
    "\n",
    "# Define target\n",
    "y = df[\"SalePrice\"]\n",
    "\n",
    "# Drop target from features\n",
    "X = df.drop(columns=[\"SalePrice\"])\n",
    "\n",
    "# Label encode all object (categorical) columns\n",
    "for col in X.select_dtypes(include=\"object\").columns:\n",
    "    X[col] = LabelEncoder().fit_transform(X[col].astype(str))\n",
    "\n",
    "X = X.fillna(0)\n",
    "\n",
    "X_train, X_test, y_train, y_test = train_test_split(X, y, test_size=0.2, random_state=42)\n",
    "\n",
    "rf = RandomForestRegressor(n_estimators=100, random_state=42)\n",
    "rf.fit(X_train, y_train)\n",
    "\n",
    "y_pred = rf.predict(X_test)\n",
    "\n",
    "# Manually calculate RMSE\n",
    "mse = ((y_test - y_pred) ** 2).mean()\n",
    "rmse = mse ** 0.5\n",
    "\n",
    "print(f\"Manual RMSE: {rmse:.2f}\")"
   ]
  },
  {
   "cell_type": "code",
   "execution_count": null,
   "metadata": {},
   "outputs": [],
   "source": [
    "# Feature Importance Plots\n",
    "import matplotlib.pyplot as plt\n",
    "\n",
    "importances = pd.Series(rf.feature_importances_, index=X.columns)\n",
    "importances.sort_values(ascending=False).head(20).plot(kind='barh', figsize=(10, 6))\n",
    "plt.title(\"Top 20 Feature Importances\")\n",
    "plt.gca().invert_yaxis()\n",
    "plt.tight_layout()\n",
    "plt.show()"
   ]
  },
  {
   "cell_type": "code",
   "execution_count": null,
   "metadata": {},
   "outputs": [],
   "source": [
    "!pip install xgboost\n"
   ]
  },
  {
   "cell_type": "code",
   "execution_count": null,
   "metadata": {},
   "outputs": [],
   "source": [
    "import xgboost as xgb\n",
    "from sklearn.model_selection import train_test_split\n",
    "\n",
    "# Assume X and y are already prepped like before\n",
    "X = df.drop(columns=[\"SalePrice\"])\n",
    "y = df[\"SalePrice\"]\n",
    "\n",
    "# Label encode categoricals (same as before)\n",
    "from sklearn.preprocessing import LabelEncoder\n",
    "for col in X.select_dtypes(include='object').columns:\n",
    "    X[col] = LabelEncoder().fit_transform(X[col].astype(str))\n",
    "\n",
    "# Handle missing values\n",
    "X = X.fillna(0)\n",
    "\n",
    "# Train/test split\n",
    "X_train, X_test, y_train, y_test = train_test_split(X, y, test_size=0.2, random_state=42)\n",
    "\n",
    "# Build model\n",
    "model_xgb = xgb.XGBRegressor(n_estimators=100, learning_rate=0.1, max_depth=6, random_state=42)\n",
    "model_xgb.fit(X_train, y_train)\n",
    "\n",
    "# Predict and evaluate manually\n",
    "y_pred = model_xgb.predict(X_test)\n",
    "rmse = ((y_test - y_pred) ** 2).mean() ** 0.5\n",
    "print(f\"XGBoost RMSE: {rmse:.2f}\")"
   ]
  }
 ],
 "metadata": {
  "language_info": {
   "name": "python"
  }
 },
 "nbformat": 4,
 "nbformat_minor": 2
}
